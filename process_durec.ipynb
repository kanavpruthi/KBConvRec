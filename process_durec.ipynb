{
 "cells": [
  {
   "cell_type": "code",
   "execution_count": 1,
   "metadata": {},
   "outputs": [],
   "source": [
    "import json\n",
    "import numpy as np\n",
    "import pandas as pd\n",
    "import pickle\n",
    "FILENAME = 'auxiliary/movies.pkl'\n",
    "ANN_TRAIN = '../durecdial2.0/annotated_en_train.txt'\n",
    "ANN_DEV = '../durecdial2.0/annotated_en_dev.txt'\n",
    "ANN_TEST='../durecdial2.0/annotated_en_test.txt'"
   ]
  },
  {
   "cell_type": "code",
   "execution_count": 2,
   "metadata": {},
   "outputs": [],
   "source": [
    "file = open(FILENAME, 'rb')\n",
    "movies = pickle.load(file)"
   ]
  },
  {
   "cell_type": "code",
   "execution_count": 3,
   "metadata": {},
   "outputs": [],
   "source": [
    "movie_id = dict()\n",
    "id_movie = dict()\n",
    "for i in range(len(movies)):\n",
    "    movie_id[movies[i]] = i+1\n",
    "    id_movie[i+1] = movies[i]\n",
    "    "
   ]
  },
  {
   "cell_type": "code",
   "execution_count": 4,
   "metadata": {},
   "outputs": [
    {
     "name": "stdout",
     "output_type": "stream",
     "text": [
      "REPLACING    [2] Well, you can watch a movie and relax a bit. @64 is a good one. It tries to convey the message that you’re so picky that @64, you’re so desperate for love but don’t believe in it at the same time that @64!\n",
      "Seen Movies   ['You Deserve To Be Single', 'You Deserve To Be Single', 'You Deserve To Be Single']\n",
      "REPLACING    [3] In this case, I recommend a movie @132 starred by him. @132, a beautiful fairy tale left by him. Leslie is still so charming!\n",
      "Seen Movies   ['Moonlight Express', 'Moonlight Express']\n",
      "REPLACING    [4] It's nothing, hehe! By the way, his song @53 is very good. It's the theme song of the movie @53. I recommend it to you now.\n",
      "Seen Movies   ['A Chinese Ghost Story', 'A Chinese Ghost Story']\n",
      "REPLACING    [3] He sings as good as acting. I'd like to recommend the song @53 to you. As the theme song of the movie @53 and written by Zhan Huang, it presents the feature of classical style with the rippling streams in the woods, the fair-sounding melody of Qin, and flute upstairs. Besides, Leslie Cheung performed it just properly, making the song melodious and far-reaching.\n",
      "Seen Movies   ['A Chinese Ghost Story', 'A Chinese Ghost Story']\n",
      "REPLACING    [3] His movie is very good. I recommend his @60, which is based on Jin Yong's original martial arts novel, adding the story of eunuch persecuting the faithful guy in King Hu's style. At the same time, it also combines Tsui Hark's cynical political criticism and Xiaodong Cheng's eye-catching martial arts design scenes. After its publication, @60 is recognized the vast majority of film fans, and has been called \"new model of martial arts movies\" by various film critics.\n",
      "Seen Movies   ['The Swordsman', 'The Swordsman']\n",
      "REPLACING    [3] Yes, there is one of his works I would like to recommend to you-@183. The movie is real and horrible. There are no good people in @183.\n",
      "Seen Movies   [\"No Man's Land\"]\n",
      "REPLACING    [5] Since you have a high opinion of him, you must watch the movie named @171 starred by him. It's a story about creating @171 in normal life.\n",
      "Seen Movies   ['The Miracle World', 'The Miracle World']\n",
      "REPLACING    [4] Well then, I'd like to recommend his movie @106, similar to the story construct of @130, but earlier.\n",
      "Seen Movies   ['To Live and Die in Tsimshatsui', 'Infernal Affairs']\n",
      "REPLACING    Well, this @119: A Warrior's Journey starred by Jackie Chan is recommended to you. It's a real legacy of @119. It's worth seeing.\n",
      "Seen Movies   ['Bruce Lee', 'Bruce Lee']\n",
      "REPLACING    What about @119: A Warrior's Journey? It's seen as the real documentary of the late movie star @119.\n",
      "Seen Movies   ['Bruce Lee', 'Bruce Lee']\n",
      "REPLACING    The @119: A Warrior's Journey is a real last work by @119. Watch it.\n",
      "Seen Movies   ['Bruce Lee', 'Bruce Lee']\n",
      "REPLACING    [5] I recommend you to watch @24 which is starred by him. Although it's a sequel, @24 doesn't give people the feeling that it's not a good sequel. The wonderful plot and the profound connotation behind it still make people applaud.\n",
      "Seen Movies   ['Golden Chicken 2', 'Golden Chicken 2']\n",
      "REPLACING    [5] Since you like Elder @13 so much, I recommend you his @86. Leslie Cheung gradually showed his acting skills in the movie, especially when Rick, the role he played, turned from a lovestruck man to a crazy killer. This cold-blooded role of Rick also shows the fortitude of men.\n",
      "Seen Movies   ['Brother', 'Double Tap']\n",
      "REPLACING    [3] Have you heard the song  @53? As the theme song of the movie  @53, written by James Wong, the song displays fullyof  the classical style, with streams flowing in the woods, piano and flute played from upstairs, with Leslie Cheung's just appropriate singing. It can be said that it achieves the artistic conception of melodious melody and secluded feel. I recommend it to you.\n",
      "Seen Movies   ['A Chinese Ghost Story', 'A Chinese Ghost Story']\n",
      "REPLACING    [4] I just have a movie named @140 to share with you, which is starred by Rene Liu, called @140, which shows a director's thinking about war, nation and human nature. It is the first real meditation of filmmakers on Nanjing Massacre after half a century.\n",
      "Seen Movies   ['Nanking 1973', 'Nanking 1973']\n",
      "REPLACING    Another one @119: A Warrior's Journey is @119's real final work. You can also have a look.\n",
      "Seen Movies   ['Bruce Lee', 'Bruce Lee']\n",
      "REPLACING    [3] I recommend you his movie @183, which tells a story about salvation of humanity, similar to @55.\n",
      "Seen Movies   [\"No Man's Land\", 'A World Without Thieves']\n",
      "REPLACING    You can see his movie @93. You'll know why the name is @93. It's reunion.\n",
      "Seen Movies   ['The Viral Factor', 'The Viral Factor']\n"
     ]
    }
   ],
   "source": [
    "def process_data(filename, movie_list):\n",
    "    file = open(filename, 'rb')\n",
    "    lines = file.readlines()\n",
    "    # point = json.loads(lines[0])\n",
    "    # print(point['conversation'])\n",
    "\n",
    "    for line in lines:\n",
    "        point = json.loads(line)\n",
    "        utterances = point['conversation']\n",
    "        for i in range(len(utterances)):\n",
    "            utt, seen_movies = processed_utterance(utterances[i], movie_list)\n",
    "            if utt.count('@') > 1:\n",
    "                print(f'REPLACING    {utt}')\n",
    "                print(f'Seen Movies   {seen_movies}')\n",
    "            # print(utt)\n",
    "\n",
    "\n",
    "def processed_utterance(utterance, movies):\n",
    "    seen_movies = []\n",
    "    for movie in movies:\n",
    "        if movie in utterance:\n",
    "            utterance = utterance.replace(movie, f'@{movie_id[movie]}')\n",
    "            \n",
    "    words = utterance.split(' ')\n",
    "    for word in words:\n",
    "        if len(word)>0 and word[0]=='@':\n",
    "            idx = 4\n",
    "            for i in range(1, len(word)):\n",
    "                if word[i].isnumeric()==False:\n",
    "                    idx = i \n",
    "                    break\n",
    "            seen_movies.append(id_movie[int(word[1:idx])])\n",
    "            \n",
    "                 \n",
    "    if seen_movies==[]:\n",
    "        return (utterance, None)\n",
    "\n",
    "    return (utterance, seen_movies)\n",
    "\n",
    "\n",
    "\n",
    "process_data(ANN_TRAIN, movies)"
   ]
  },
  {
   "cell_type": "code",
   "execution_count": 7,
   "metadata": {},
   "outputs": [
    {
     "data": {
      "text/plain": [
       "\"No Man's Land\""
      ]
     },
     "execution_count": 7,
     "metadata": {},
     "output_type": "execute_result"
    }
   ],
   "source": []
  },
  {
   "cell_type": "code",
   "execution_count": null,
   "metadata": {},
   "outputs": [],
   "source": []
  }
 ],
 "metadata": {
  "kernelspec": {
   "display_name": "Python 3.9.13 64-bit",
   "language": "python",
   "name": "python3"
  },
  "language_info": {
   "codemirror_mode": {
    "name": "ipython",
    "version": 3
   },
   "file_extension": ".py",
   "mimetype": "text/x-python",
   "name": "python",
   "nbconvert_exporter": "python",
   "pygments_lexer": "ipython3",
   "version": "3.9.13"
  },
  "orig_nbformat": 4,
  "vscode": {
   "interpreter": {
    "hash": "a665b5d41d17b532ea9890333293a1b812fa0b73c9c25c950b3cedf1bebd0438"
   }
  }
 },
 "nbformat": 4,
 "nbformat_minor": 2
}
