{
 "cells": [
  {
   "cell_type": "code",
   "execution_count": 1,
   "metadata": {},
   "outputs": [],
   "source": [
    "import os \n",
    "os.environ['TF_ENABLE_ONEDNN_OPTS'] = '0'\n",
    "import torch\n",
    "from torch.utils.data import DataLoader\n",
    "\n",
    "from transformers import GPT2Config, GPT2Tokenizer, BertModel, BertTokenizer, DistilBertModel, DistilBertTokenizer\n",
    "from transformers import AdamW, get_linear_schedule_with_warmup\n",
    "\n",
    "from InductiveAttentionModels import GPT2InductiveAttentionHeadModel\n",
    "from loss import SequenceCrossEntropyLoss\n",
    "\n",
    "from trainer import Trainer\n",
    "import time\n",
    "import tqdm\n",
    "from dataset import MovieRecDataset, RecDataset\n",
    "from corrected_mese import C_UniversalCRSModel\n",
    "from corrected_engine import C_Engine\n",
    "from utilities import get_memory_free_MiB\n",
    "from metrics import distinct_metrics, bleu_calc_all\n"
   ]
  },
  {
   "cell_type": "code",
   "execution_count": 2,
   "metadata": {},
   "outputs": [],
   "source": [
    "bert_tokenizer = DistilBertTokenizer.from_pretrained(\"../../../../offline_transformers/distilbert-base-uncased/tokenizer\")\n",
    "bert_model_recall = DistilBertModel.from_pretrained('../../../../offline_transformers/distilbert-base-uncased/model')\n",
    "bert_model_rerank = DistilBertModel.from_pretrained('../../../../offline_transformers/distilbert-base-uncased/model')\n",
    "gpt_tokenizer = GPT2Tokenizer.from_pretrained(\"../../../../offline_transformers/gpt2/tokenizer\")\n",
    "gpt2_model = GPT2InductiveAttentionHeadModel.from_pretrained('../../../../offline_transformers/gpt2/model')\n"
   ]
  },
  {
   "cell_type": "code",
   "execution_count": 3,
   "metadata": {},
   "outputs": [],
   "source": [
    "REC_TOKEN = \"[REC]\"\n",
    "REC_END_TOKEN = \"[REC_END]\"\n",
    "SEP_TOKEN = \"[SEP]\"\n",
    "PLACEHOLDER_TOKEN = \"[MOVIE_ID]\"\n",
    "gpt_tokenizer.add_tokens([REC_TOKEN, REC_END_TOKEN, SEP_TOKEN, PLACEHOLDER_TOKEN])\n",
    "gpt2_model.resize_token_embeddings(len(gpt_tokenizer)) \n",
    "\n",
    "test_path = \"data/processed/durecdial2_all_dev_placeholder_updated\"\n",
    "items_db_path = \"data/processed/durecdial2_full_entity_db_placeholder\"\n",
    "output_file_path = 'out/retrieval_results_best.txt'\n",
    "\n",
    "items_db = torch.load(items_db_path)\n",
    "\n",
    "test_dataset = RecDataset(torch.load(test_path), bert_tokenizer, gpt_tokenizer)\n"
   ]
  },
  {
   "cell_type": "code",
   "execution_count": 7,
   "metadata": {},
   "outputs": [
    {
     "data": {
      "text/plain": [
       "torch.Size([1, 14])"
      ]
     },
     "execution_count": 7,
     "metadata": {},
     "output_type": "execute_result"
    }
   ],
   "source": [
    "test_dataset[0][1][0][0].shape"
   ]
  },
  {
   "cell_type": "code",
   "execution_count": null,
   "metadata": {},
   "outputs": [],
   "source": []
  }
 ],
 "metadata": {
  "kernelspec": {
   "display_name": "harshGPU",
   "language": "python",
   "name": "python3"
  },
  "language_info": {
   "codemirror_mode": {
    "name": "ipython",
    "version": 3
   },
   "file_extension": ".py",
   "mimetype": "text/x-python",
   "name": "python",
   "nbconvert_exporter": "python",
   "pygments_lexer": "ipython3",
   "version": "3.9.7"
  },
  "orig_nbformat": 4,
  "vscode": {
   "interpreter": {
    "hash": "acb26a374774508ff4d6b852ccd3c26ca348e61e32d01e3548ca0d6142128295"
   }
  }
 },
 "nbformat": 4,
 "nbformat_minor": 2
}
