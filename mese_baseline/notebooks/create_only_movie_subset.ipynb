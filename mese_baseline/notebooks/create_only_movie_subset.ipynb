{
 "cells": [
  {
   "cell_type": "code",
   "execution_count": 1,
   "metadata": {},
   "outputs": [],
   "source": [
    "import torch"
   ]
  },
  {
   "cell_type": "code",
   "execution_count": 2,
   "metadata": {},
   "outputs": [],
   "source": [
    "test = '../data/processed/durecdial2_food_test_placeholder'\n",
    "train = '../data/processed/durecdial2_food_train_placeholder'\n",
    "dev = '../data/processed/durecdial2_food_dev_placeholder'"
   ]
  },
  {
   "cell_type": "code",
   "execution_count": 3,
   "metadata": {},
   "outputs": [],
   "source": [
    "test_sub = '../data/processed/durecdial2_food_sub_test_placeholder'\n",
    "train_sub = '../data/processed/durecdial2_food_sub_train_placeholder'\n",
    "dev_sub = '../data/processed/durecdial2_food_sub_dev_placeholder'"
   ]
  },
  {
   "cell_type": "code",
   "execution_count": 4,
   "metadata": {},
   "outputs": [],
   "source": [
    "sub = [train_sub,dev_sub,test_sub]"
   ]
  },
  {
   "cell_type": "code",
   "execution_count": 5,
   "metadata": {},
   "outputs": [
    {
     "data": {
      "text/plain": [
       "(5678, 811, 1751)"
      ]
     },
     "execution_count": 5,
     "metadata": {},
     "output_type": "execute_result"
    }
   ],
   "source": [
    "len(torch.load(train)),len(torch.load(dev)),len(torch.load(test))"
   ]
  },
  {
   "cell_type": "code",
   "execution_count": 6,
   "metadata": {},
   "outputs": [
    {
     "name": "stdout",
     "output_type": "stream",
     "text": [
      "454\n",
      "57\n",
      "130\n"
     ]
    }
   ],
   "source": [
    "for k,file_path in enumerate([train,dev,test]):\n",
    "    file = torch.load(file_path)\n",
    "    contain_movie = 0\n",
    "    new_data = []\n",
    "    for i in range(len(file)):\n",
    "        flag = True\n",
    "        for j in range(len(file[i])):\n",
    "            rec_ids = file[i][j][1]\n",
    "            if rec_ids != None:\n",
    "                flag = False\n",
    "                break \n",
    "        if not flag:\n",
    "            new_data.append(file[i])\n",
    "    print(len(new_data))\n",
    "    torch.save(new_data,sub[k])"
   ]
  }
 ],
 "metadata": {
  "kernelspec": {
   "display_name": "Python 3.8.10 64-bit",
   "language": "python",
   "name": "python3"
  },
  "language_info": {
   "codemirror_mode": {
    "name": "ipython",
    "version": 3
   },
   "file_extension": ".py",
   "mimetype": "text/x-python",
   "name": "python",
   "nbconvert_exporter": "python",
   "pygments_lexer": "ipython3",
   "version": "3.8.10 (default, Nov 14 2022, 12:59:47) \n[GCC 9.4.0]"
  },
  "orig_nbformat": 4,
  "vscode": {
   "interpreter": {
    "hash": "767d51c1340bd893661ea55ea3124f6de3c7a262a8b4abca0554b478b1e2ff90"
   }
  }
 },
 "nbformat": 4,
 "nbformat_minor": 2
}
