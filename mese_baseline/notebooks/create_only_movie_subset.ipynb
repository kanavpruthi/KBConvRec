{
 "cells": [
  {
   "cell_type": "code",
   "execution_count": 1,
   "metadata": {},
   "outputs": [],
   "source": [
    "import torch"
   ]
  },
  {
   "cell_type": "code",
   "execution_count": 2,
   "metadata": {},
   "outputs": [],
   "source": [
    "test = '../data/processed/durecdial2_full_test_placeholder'\n",
    "train = '../data/processed/durecdial2_full_train_placeholder'\n",
    "dev = '../data/processed/durecdial2_full_dev_placeholder'"
   ]
  },
  {
   "cell_type": "code",
   "execution_count": 10,
   "metadata": {},
   "outputs": [],
   "source": [
    "test_sub = '../data/processed/durecdial2_sub_test_placeholder'\n",
    "train_sub = '../data/processed/durecdial2_sub_train_placeholder'\n",
    "dev_sub = '../data/processed/durecdial2_sub_dev_placeholder'"
   ]
  },
  {
   "cell_type": "code",
   "execution_count": 11,
   "metadata": {},
   "outputs": [],
   "source": [
    "sub = [train_sub,dev_sub,test_sub]"
   ]
  },
  {
   "cell_type": "code",
   "execution_count": 4,
   "metadata": {},
   "outputs": [
    {
     "data": {
      "text/plain": [
       "(5678, 811, 1752)"
      ]
     },
     "execution_count": 4,
     "metadata": {},
     "output_type": "execute_result"
    }
   ],
   "source": [
    "len(torch.load(train)),len(torch.load(dev)),len(torch.load(test))"
   ]
  },
  {
   "cell_type": "code",
   "execution_count": 12,
   "metadata": {},
   "outputs": [],
   "source": [
    "for k,file_path in enumerate([train,dev,test]):\n",
    "    file = torch.load(file_path)\n",
    "    contain_movie = 0\n",
    "    new_data = []\n",
    "    for i in range(len(file)):\n",
    "        flag = True\n",
    "        for j in range(len(file[i])):\n",
    "            rec_ids = file[i][j][1]\n",
    "            if rec_ids != None:\n",
    "                flag = False\n",
    "                break \n",
    "        if not flag:\n",
    "            new_data.append(file[i])\n",
    "    torch.save(new_data,sub[k])"
   ]
  },
  {
   "cell_type": "code",
   "execution_count": null,
   "metadata": {},
   "outputs": [],
   "source": []
  }
 ],
 "metadata": {
  "kernelspec": {
   "display_name": "Python 3.8.10 64-bit",
   "language": "python",
   "name": "python3"
  },
  "language_info": {
   "codemirror_mode": {
    "name": "ipython",
    "version": 3
   },
   "file_extension": ".py",
   "mimetype": "text/x-python",
   "name": "python",
   "nbconvert_exporter": "python",
   "pygments_lexer": "ipython3",
   "version": "3.8.10"
  },
  "orig_nbformat": 4,
  "vscode": {
   "interpreter": {
    "hash": "767d51c1340bd893661ea55ea3124f6de3c7a262a8b4abca0554b478b1e2ff90"
   }
  }
 },
 "nbformat": 4,
 "nbformat_minor": 2
}
