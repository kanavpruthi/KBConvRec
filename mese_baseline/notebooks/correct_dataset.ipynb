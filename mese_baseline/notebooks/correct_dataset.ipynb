{
 "cells": [
  {
   "cell_type": "code",
   "execution_count": 3,
   "metadata": {},
   "outputs": [],
   "source": [
    "import torch"
   ]
  },
  {
   "cell_type": "code",
   "execution_count": 7,
   "metadata": {},
   "outputs": [],
   "source": [
    "test = '../data/processed/durecdial2_full_test_placeholder'\n",
    "train = '../data/processed/durecdial2_full_train_placeholder'\n",
    "dev = '../data/processed/durecdial2_full_dev_placeholder'"
   ]
  },
  {
   "cell_type": "code",
   "execution_count": 6,
   "metadata": {},
   "outputs": [],
   "source": [
    "for file_path in [train,dev,test]:\n",
    "    file = torch.load(file_path)\n",
    "    new_file = []\n",
    "    for i in range(len(file)):\n",
    "        current = []\n",
    "        for j in range(len(file[i])):\n",
    "            dl = file[i][j][0]\n",
    "            rec = file[i][j][1]\n",
    "            if dl[0]=='A':\n",
    "                current.append(('B'+dl[1:],rec))\n",
    "            else:\n",
    "                current.append(('A'+dl[1:],rec))\n",
    "        new_file.append(current)\n",
    "    torch.save(new_file,file_path)"
   ]
  }
 ],
 "metadata": {
  "kernelspec": {
   "display_name": "Python 3.8.10 64-bit",
   "language": "python",
   "name": "python3"
  },
  "language_info": {
   "codemirror_mode": {
    "name": "ipython",
    "version": 3
   },
   "file_extension": ".py",
   "mimetype": "text/x-python",
   "name": "python",
   "nbconvert_exporter": "python",
   "pygments_lexer": "ipython3",
   "version": "3.8.10"
  },
  "orig_nbformat": 4,
  "vscode": {
   "interpreter": {
    "hash": "767d51c1340bd893661ea55ea3124f6de3c7a262a8b4abca0554b478b1e2ff90"
   }
  }
 },
 "nbformat": 4,
 "nbformat_minor": 2
}
