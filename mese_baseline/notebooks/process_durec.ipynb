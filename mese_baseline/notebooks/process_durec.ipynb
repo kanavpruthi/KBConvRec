{
 "cells": [
  {
   "cell_type": "code",
   "execution_count": 37,
   "metadata": {},
   "outputs": [],
   "source": [
    "import json\n",
    "import numpy as np\n",
    "import pandas as pd\n",
    "import pickle\n",
    "import torch\n",
    "MOVIES_FILENAME = '../../auxiliary/movies.pkl'\n",
    "FOOD_FILENAME = '../../auxiliary/food.pkl'\n",
    "MUSIC_FILENAME = '../../auxiliary/music.pkl'\n",
    "POI_FILENAME = '../../auxiliary/poi.pkl'\n",
    "ANN_TRAIN = '../../auxiliary/raw_data/annotated_en_train.txt'\n",
    "ANN_DEV = '../../auxiliary/raw_data/annotated_en_dev.txt'\n",
    "ANN_TEST='../../auxiliary/raw_data/annotated_en_test.txt'\n",
    "\n",
    "SAVE_TRAIN = '../data/processed/durecdial2_all_train_placeholder'\n",
    "SAVE_DEV = '../data/processed/durecdial2_all_dev_placeholder'\n",
    "SAVE_TEST= '../data/processed/durecdial2_all_test_placeholder'"
   ]
  },
  {
   "cell_type": "code",
   "execution_count": 38,
   "metadata": {},
   "outputs": [],
   "source": [
    "movies_file = open(MOVIES_FILENAME, 'rb')\n",
    "movies = pickle.load(movies_file)\n",
    "\n",
    "food_file = open(FOOD_FILENAME, 'rb')\n",
    "food = pickle.load(food_file) \n",
    "\n",
    "music_file = open(MUSIC_FILENAME,'rb')\n",
    "music = pickle.load(music_file)\n",
    "\n",
    "poi_file = open(POI_FILENAME,'rb')\n",
    "poi = pickle.load(poi_file)"
   ]
  },
  {
   "cell_type": "code",
   "execution_count": 39,
   "metadata": {},
   "outputs": [],
   "source": [
    "entity_id = dict()\n",
    "id_entity = dict()"
   ]
  },
  {
   "cell_type": "code",
   "execution_count": 40,
   "metadata": {},
   "outputs": [
    {
     "name": "stdout",
     "output_type": "stream",
     "text": [
      "set()\n",
      "{'A Chinese Ghost Story'}\n",
      "set()\n"
     ]
    }
   ],
   "source": [
    "entities = set(movies)\n",
    "inter = entities.intersection(food)\n",
    "print(inter)\n",
    "entities.update(food)\n",
    "inter = entities.intersection(music)\n",
    "print(inter)\n",
    "entities.update(music)\n",
    "inter = entities.intersection(poi)\n",
    "print(inter)\n",
    "entities.update(music)\n",
    "entities = list(entities)"
   ]
  },
  {
   "cell_type": "code",
   "execution_count": 41,
   "metadata": {},
   "outputs": [],
   "source": [
    "movie_id = dict()\n",
    "id_movie = dict()\n",
    "setter = 0\n",
    "for i in range(len(movies)):\n",
    "    movie_id[movies[i]] = i+1\n",
    "    id_movie[i+1] = movies[i]\n",
    "\n",
    "entity_id.update(movie_id)\n",
    "id_entity.update(id_movie)\n",
    "setter = len(movies)\n",
    "\n",
    "food_id = dict()\n",
    "id_food = dict()\n",
    "for i in range(setter, setter + len(food)):\n",
    "    food_id[food[i-setter]] = i+1\n",
    "    id_food[i+1] = food[i-setter]\n",
    "entity_id.update(food_id)\n",
    "id_entity.update(id_food)\n",
    "setter += len(food)\n",
    "\n",
    "music_id = dict()\n",
    "id_music = dict()\n",
    "for i in range(setter, setter + len(music)):\n",
    "    music_id[music[i-setter]] = i+1\n",
    "    id_music[i+1] = music[i-setter]\n",
    "\n",
    "entity_id.update(music_id)\n",
    "id_entity.update(id_music)\n",
    "setter += len(music)\n",
    "\n",
    "poi_id = dict()\n",
    "id_poi = dict()\n",
    "for i in range(setter, setter + len(poi)):\n",
    "    poi_id[poi[i-setter]] = i+1\n",
    "    id_poi[i+1] = poi[i-setter]\n",
    "\n",
    "entity_id.update(poi_id)\n",
    "id_entity.update(id_poi)\n",
    "\n"
   ]
  },
  {
   "cell_type": "code",
   "execution_count": 42,
   "metadata": {},
   "outputs": [
    {
     "name": "stdout",
     "output_type": "stream",
     "text": [
      "217 57 249 96\n"
     ]
    }
   ],
   "source": [
    "print(len(movies),len(food),len(music),len(poi))\n"
   ]
  },
  {
   "cell_type": "code",
   "execution_count": 43,
   "metadata": {},
   "outputs": [],
   "source": [
    "def process_data(filename, entity_list, entity_id, id_entity):\n",
    "    file = open(filename, 'rb')\n",
    "    lines = file.readlines()\n",
    "    # point = json.loads(lines[0])\n",
    "    # print(point['conversation'])\n",
    "    conversations = []\n",
    "    for line in lines:\n",
    "        point = json.loads(line)\n",
    "        utterances = point['conversation']\n",
    "        current = []\n",
    "        for i in range(len(utterances)):\n",
    "            utt, seen_entities = processed_utterance(utterances[i], entity_list, entity_id, id_entity)\n",
    "            utt, seen_entities = further_process(utt, seen_entities, entity_id)\n",
    "            if i%2==0:\n",
    "                utt = 'B: ' + utt\n",
    "            else:\n",
    "                utt = 'A: ' + utt\n",
    "            # if utt.count('@') > 1:\n",
    "            #     print(f'REPLACING    {utt}')\n",
    "            #     print(f'Seen Entity   {seen_entities}')\n",
    "            # # print(utt)\n",
    "            current.append((utt,seen_entities))\n",
    "        \n",
    "        conversations.append(current)\n",
    "\n",
    "    return conversations\n",
    "\n",
    "def further_process(utterance, entities, entity_id):\n",
    "    words = utterance.split(' ')\n",
    "    new_utterance = ''\n",
    "    for word in words:\n",
    "        if '@' in word:\n",
    "            new_utterance += '[MOVIE_ID] '\n",
    "        else:\n",
    "            new_utterance += word + ' '\n",
    "\n",
    "    new_utterance = new_utterance.strip()\n",
    "    if entities is None:\n",
    "        return new_utterance,None\n",
    "\n",
    "    int_entities = []\n",
    "    for ent in entities:\n",
    "        int_entities.append(entity_id[ent])\n",
    "    \n",
    "    \n",
    "\n",
    "    return new_utterance,int_entities\n",
    "\n",
    "def processed_utterance(utterance, entities, entity_id, id_entity):\n",
    "    seen_entities = []\n",
    "    for entity in entities:\n",
    "        if entity in utterance:\n",
    "            utterance = utterance.replace(entity, f'@{entity_id[entity]}')            \n",
    "    words = utterance.split(' ')\n",
    "    for word in words:\n",
    "        if len(word)>0 and word[0]=='@':\n",
    "            idx = 4\n",
    "            for i in range(1, len(word)):\n",
    "                if word[i].isnumeric()==False:\n",
    "                    idx = i \n",
    "                    break\n",
    "            seen_entities.append(id_entity[int(word[1:idx])])\n",
    "            \n",
    "                 \n",
    "    if seen_entities==[]:\n",
    "        return (utterance, None)\n",
    "\n",
    "    return (utterance, seen_entities)\n"
   ]
  },
  {
   "cell_type": "code",
   "execution_count": 44,
   "metadata": {},
   "outputs": [],
   "source": [
    "processed_train  = process_data(ANN_TRAIN, entities, entity_id, id_entity)\n",
    "torch.save(processed_train,SAVE_TRAIN)"
   ]
  },
  {
   "cell_type": "code",
   "execution_count": 49,
   "metadata": {},
   "outputs": [],
   "source": [
    "processed_dev  = process_data(ANN_DEV, entities, entity_id, id_entity)\n",
    "torch.save(processed_dev,SAVE_DEV)"
   ]
  },
  {
   "cell_type": "code",
   "execution_count": 50,
   "metadata": {},
   "outputs": [],
   "source": [
    "processed_test  = process_data(ANN_TEST, entities, entity_id, id_entity)\n",
    "torch.save(processed_test,SAVE_TEST)"
   ]
  },
  {
   "cell_type": "code",
   "execution_count": 53,
   "metadata": {},
   "outputs": [
    {
     "data": {
      "text/plain": [
       "'Children From The Distant Planet'"
      ]
     },
     "execution_count": 53,
     "metadata": {},
     "output_type": "execute_result"
    }
   ],
   "source": [
    "id_entity[97]"
   ]
  },
  {
   "cell_type": "code",
   "execution_count": 54,
   "metadata": {},
   "outputs": [],
   "source": [
    "entity_dictionary = {}\n",
    "for id in id_entity.keys():\n",
    "    entity_dictionary[id] = id_entity[id]"
   ]
  },
  {
   "cell_type": "code",
   "execution_count": 55,
   "metadata": {},
   "outputs": [],
   "source": [
    "torch.save(entity_dictionary,'../data/processed/durecdial2_full_entity_db_placeholder')"
   ]
  },
  {
   "cell_type": "code",
   "execution_count": null,
   "metadata": {},
   "outputs": [],
   "source": []
  }
 ],
 "metadata": {
  "kernelspec": {
   "display_name": "Python 3.8.10 64-bit",
   "language": "python",
   "name": "python3"
  },
  "language_info": {
   "codemirror_mode": {
    "name": "ipython",
    "version": 3
   },
   "file_extension": ".py",
   "mimetype": "text/x-python",
   "name": "python",
   "nbconvert_exporter": "python",
   "pygments_lexer": "ipython3",
   "version": "3.8.10 (default, Nov 14 2022, 12:59:47) \n[GCC 9.4.0]"
  },
  "orig_nbformat": 4,
  "vscode": {
   "interpreter": {
    "hash": "767d51c1340bd893661ea55ea3124f6de3c7a262a8b4abca0554b478b1e2ff90"
   }
  }
 },
 "nbformat": 4,
 "nbformat_minor": 2
}
