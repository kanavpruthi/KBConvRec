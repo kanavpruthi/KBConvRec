{
 "cells": [
  {
   "cell_type": "code",
   "execution_count": 1,
   "metadata": {},
   "outputs": [],
   "source": [
    "import torch"
   ]
  },
  {
   "cell_type": "code",
   "execution_count": 3,
   "metadata": {},
   "outputs": [],
   "source": [
    "test = torch.load('../data/processed/redial_all_test_placeholder_updated')\n",
    "train = torch.load('../data/processed/redial_all_train_placeholder_updated')\n",
    "# dev = torch.load('../data/processed/redial_all_dev_placeholder_updated')"
   ]
  },
  {
   "cell_type": "code",
   "execution_count": 4,
   "metadata": {},
   "outputs": [
    {
     "data": {
      "text/plain": [
       "(8275, 1134)"
      ]
     },
     "execution_count": 4,
     "metadata": {},
     "output_type": "execute_result"
    }
   ],
   "source": [
    "# len(train),len(test),len(dev)\n",
    "len(train),len(test)"
   ]
  },
  {
   "cell_type": "code",
   "execution_count": 5,
   "metadata": {},
   "outputs": [],
   "source": [
    "golds = torch.load('../human_eval/constrained_labels.pt')\n",
    "preds = torch.load('../human_eval/constrained_preds.pt')"
   ]
  },
  {
   "cell_type": "code",
   "execution_count": 6,
   "metadata": {},
   "outputs": [
    {
     "data": {
      "text/plain": [
       "6307"
      ]
     },
     "execution_count": 6,
     "metadata": {},
     "output_type": "execute_result"
    }
   ],
   "source": [
    "len(golds)"
   ]
  },
  {
   "cell_type": "code",
   "execution_count": 20,
   "metadata": {},
   "outputs": [],
   "source": [
    "fw = open('../data/predictions/cd_gold_labels\".txt','w')"
   ]
  },
  {
   "cell_type": "code",
   "execution_count": 21,
   "metadata": {},
   "outputs": [],
   "source": [
    "for i in range(len(golds)):\n",
    "        gold = ' '.join(golds[i][1:])\n",
    "        pred = ' '.join(preds[i][1:])\n",
    "        # pred = pred.replace('\\n',' ')\n",
    "        # if '[REC]' not in pred and '[REC_END]' not in pred:\n",
    "        fw.write(pred+'\\t'+gold+'\\n')"
   ]
  },
  {
   "cell_type": "code",
   "execution_count": 22,
   "metadata": {},
   "outputs": [],
   "source": [
    "# for i in range(len(golds)):\n",
    "#     for j in range(len(golds[i])):\n",
    "#         gold = ' '.join(golds[i][j][1:])\n",
    "#         pred = ' '.join(preds[i][j][1:])\n",
    "#         pred = pred.replace('\\n',' ')\n",
    "#         # if '[REC]' not in pred and '[REC_END]' not in pred:\n",
    "#         fw.write(pred+'\\t'+gold+'\\n')"
   ]
  },
  {
   "cell_type": "code",
   "execution_count": 23,
   "metadata": {},
   "outputs": [],
   "source": [
    "fw.close()"
   ]
  },
  {
   "cell_type": "code",
   "execution_count": null,
   "metadata": {},
   "outputs": [],
   "source": []
  }
 ],
 "metadata": {
  "kernelspec": {
   "display_name": "harshGPU",
   "language": "python",
   "name": "python3"
  },
  "language_info": {
   "codemirror_mode": {
    "name": "ipython",
    "version": 3
   },
   "file_extension": ".py",
   "mimetype": "text/x-python",
   "name": "python",
   "nbconvert_exporter": "python",
   "pygments_lexer": "ipython3",
   "version": "3.9.7"
  },
  "orig_nbformat": 4,
  "vscode": {
   "interpreter": {
    "hash": "acb26a374774508ff4d6b852ccd3c26ca348e61e32d01e3548ca0d6142128295"
   }
  }
 },
 "nbformat": 4,
 "nbformat_minor": 2
}
