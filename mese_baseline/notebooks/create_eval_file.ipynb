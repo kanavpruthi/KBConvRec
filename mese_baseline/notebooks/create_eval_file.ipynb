{
 "cells": [
  {
   "cell_type": "code",
   "execution_count": 1,
   "metadata": {},
   "outputs": [],
   "source": [
    "import torch"
   ]
  },
  {
   "cell_type": "code",
   "execution_count": 61,
   "metadata": {},
   "outputs": [],
   "source": [
    "test = torch.load('data/processed/durecdial2_full_test_placeholder')\n",
    "train = torch.load('data/processed/durecdial2_full_train_placeholder')\n",
    "dev = torch.load('data/processed/durecdial2_full_dev_placeholder')"
   ]
  },
  {
   "cell_type": "code",
   "execution_count": 62,
   "metadata": {},
   "outputs": [
    {
     "data": {
      "text/plain": [
       "(5678, 1752, 811)"
      ]
     },
     "execution_count": 62,
     "metadata": {},
     "output_type": "execute_result"
    }
   ],
   "source": [
    "len(train),len(test),len(dev)"
   ]
  },
  {
   "cell_type": "code",
   "execution_count": 63,
   "metadata": {},
   "outputs": [
    {
     "data": {
      "text/plain": [
       "[('B: [1] Who is the leading actor of the movie [MOVIE_ID]?', [37]),\n",
       " (\"A: It's Cecilia Cheung\", None),\n",
       " ('B: You even know that. Excellent!', None),\n",
       " (\"A: [2] Thank you for your praise. She's a Chinese idol. Of course I know her.\",\n",
       "  None),\n",
       " ('B: Yes my idol is quite unusual.', None),\n",
       " ('A: She is also an Asian Outstanding Artist in New York Chinese Film Festival. Excellent.',\n",
       "  None),\n",
       " ('B: Yes. People like her will shine wherever they go.', None),\n",
       " (\"A: [3] Then don't miss her movie [MOVIE_ID]. It shows a love tragedy in which the two people are secluded in different time spaces. However, the movie doesn't just tell a sad but beautiful love story. Through the story, the audiences can see the director's profound thinking and understanding of life and human nature.\",\n",
       "  [16]),\n",
       " (\"B: Although I really like her, I prefer to see Nicholas Tse's movies.\",\n",
       "  None),\n",
       " (\"A: [4] Then you can watch Nicholas Tse's movie [MOVIE_ID]. His acting is good.\",\n",
       "  [11]),\n",
       " ('B: What kind of movie is it?', None),\n",
       " (\"A: It's an action drama, with a little bit of thriller.\", None),\n",
       " ('B: Woah, sounds interesting.', None),\n",
       " (\"A: I'm sure you'll like it.\", None),\n",
       " (\"B: [5] Then I'm leaving too see the movie.\", None),\n",
       " ('A: Okay, see you next time.', None)]"
      ]
     },
     "execution_count": 63,
     "metadata": {},
     "output_type": "execute_result"
    }
   ],
   "source": [
    "train[0]"
   ]
  },
  {
   "cell_type": "code",
   "execution_count": 2,
   "metadata": {},
   "outputs": [],
   "source": [
    "golds = torch.load('human_eval/labels.pt')\n",
    "preds = torch.load('human_eval/preds.pt')"
   ]
  },
  {
   "cell_type": "code",
   "execution_count": 30,
   "metadata": {},
   "outputs": [
    {
     "data": {
      "text/plain": [
       "[('A: [1] Who is the leading actor of the movie [MOVIE_ID]?', [37]),\n",
       " (\"B: It's Cecilia Cheung\", None),\n",
       " ('A: You even know that. Excellent!', None),\n",
       " (\"B: [2] Thank you for your praise. She's a Chinese idol. Of course I know her.\",\n",
       "  None),\n",
       " ('A: Yes my idol is quite unusual.', None),\n",
       " ('B: She is also an Asian Outstanding Artist in New York Chinese Film Festival. Excellent.',\n",
       "  None),\n",
       " ('A: Yes. People like her will shine wherever they go.', None),\n",
       " (\"B: [3] Then don't miss her movie [MOVIE_ID]. It shows a love tragedy in which the two people are secluded in different time spaces. However, the movie doesn't just tell a sad but beautiful love story. Through the story, the audiences can see the director's profound thinking and understanding of life and human nature.\",\n",
       "  [16]),\n",
       " (\"A: Although I really like her, I prefer to see Nicholas Tse's movies.\",\n",
       "  None),\n",
       " (\"B: [4] Then you can watch Nicholas Tse's movie [MOVIE_ID]. His acting is good.\",\n",
       "  [11]),\n",
       " ('A: What kind of movie is it?', None),\n",
       " (\"B: It's an action drama, with a little bit of thriller.\", None),\n",
       " ('A: Woah, sounds interesting.', None),\n",
       " (\"B: I'm sure you'll like it.\", None),\n",
       " (\"A: [5] Then I'm leaving too see the movie.\", None),\n",
       " ('B: Okay, see you next time.', None)]"
      ]
     },
     "execution_count": 30,
     "metadata": {},
     "output_type": "execute_result"
    }
   ],
   "source": [
    "train[0]"
   ]
  },
  {
   "cell_type": "code",
   "execution_count": 27,
   "metadata": {},
   "outputs": [
    {
     "data": {
      "text/plain": [
       "[(\"A: [1] What is Xun Zhou's star sign?\", None),\n",
       " (\"B: It's Libra.\", None),\n",
       " ('A: Good for you! You know so much.', None),\n",
       " ('B: [2] I also know that she has won the Asian Film Awards for Best Actress.',\n",
       "  None),\n",
       " (\"A: She's my idol. Her acting skills are excellent.\", None),\n",
       " ('B: She was born for acting and has won the Chinese Film Media Awards for Best Actress.',\n",
       "  None),\n",
       " ('A: I like watching movies by her very much.', None),\n",
       " ('B: [3] Here\\'s a movie for you. It\\'s called [MOVIE_ID] starred by her. In this movie, she devoted rich passion and sincerity, bringing the audience into the situation of \"love or die\" and making people think a lot about the city, love, gain and loss.',\n",
       "  [36]),\n",
       " (\"A: What's the public praise of this film?\", None),\n",
       " ('B: Yes, it does.', None),\n",
       " (\"A: I'll go and have a look now.\", None),\n",
       " ('B: Yeah. Come to me anytime when you want to see movies later.', None),\n",
       " ('A: [4] Talk to you next time, goodbye.', None),\n",
       " ('B: Bye!', None)]"
      ]
     },
     "execution_count": 27,
     "metadata": {},
     "output_type": "execute_result"
    }
   ],
   "source": [
    "test[0]"
   ]
  },
  {
   "cell_type": "code",
   "execution_count": 26,
   "metadata": {},
   "outputs": [
    {
     "name": "stdout",
     "output_type": "stream",
     "text": [
      "[['A:', '[1]', 'What', 'is', 'Xun', \"Zhou's\", 'star', 'sign?'], ['A:', 'Good', 'for', 'you!', 'You', 'know', 'so', 'much.'], ['A:', \"She's\", 'my', 'idol.', 'Her', 'acting', 'skills', 'are', 'excellent.'], ['A:', 'I', 'like', 'watching', 'movies', 'by', 'her', 'very', 'much.'], ['A:', \"What's\", 'the', 'public', 'praise', 'of', 'this', 'film?'], ['A:', \"I'll\", 'go', 'and', 'have', 'a', 'look', 'now.'], ['A:', '[4]', 'Talk', 'to', 'you', 'next', 'time,', 'goodbye.']]\n"
     ]
    }
   ],
   "source": [
    "print(golds[0])"
   ]
  },
  {
   "cell_type": "code",
   "execution_count": 16,
   "metadata": {},
   "outputs": [],
   "source": [
    "fw = open('predictions.txt','w')"
   ]
  },
  {
   "cell_type": "code",
   "execution_count": 17,
   "metadata": {},
   "outputs": [],
   "source": [
    "# for i in range(len(golds)):\n",
    "#         gold = ' '.join(golds[i][1:])\n",
    "#         pred = ' '.join(preds[i][1:])\n",
    "#         pred = pred.replace('\\n',' ')\n",
    "#         # if '[REC]' not in pred and '[REC_END]' not in pred:\n",
    "#         fw.write(pred+'\\t'+gold+'\\n')"
   ]
  },
  {
   "cell_type": "code",
   "execution_count": 18,
   "metadata": {},
   "outputs": [],
   "source": [
    "for i in range(len(golds)):\n",
    "    for j in range(len(golds[i])):\n",
    "        gold = ' '.join(golds[i][j][1:])\n",
    "        pred = ' '.join(preds[i][j][1:])\n",
    "        pred = pred.replace('\\n',' ')\n",
    "        # if '[REC]' not in pred and '[REC_END]' not in pred:\n",
    "        fw.write(pred+'\\t'+gold+'\\n')"
   ]
  },
  {
   "cell_type": "code",
   "execution_count": 19,
   "metadata": {},
   "outputs": [],
   "source": [
    "fw.close()"
   ]
  },
  {
   "cell_type": "code",
   "execution_count": null,
   "metadata": {},
   "outputs": [],
   "source": []
  }
 ],
 "metadata": {
  "kernelspec": {
   "display_name": "Python 3.9.7 ('harshGPU')",
   "language": "python",
   "name": "python3"
  },
  "language_info": {
   "codemirror_mode": {
    "name": "ipython",
    "version": 3
   },
   "file_extension": ".py",
   "mimetype": "text/x-python",
   "name": "python",
   "nbconvert_exporter": "python",
   "pygments_lexer": "ipython3",
   "version": "3.9.7"
  },
  "orig_nbformat": 4,
  "vscode": {
   "interpreter": {
    "hash": "acb26a374774508ff4d6b852ccd3c26ca348e61e32d01e3548ca0d6142128295"
   }
  }
 },
 "nbformat": 4,
 "nbformat_minor": 2
}
