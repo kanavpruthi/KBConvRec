{
 "cells": [
  {
   "cell_type": "code",
   "execution_count": 1,
   "metadata": {},
   "outputs": [],
   "source": [
    "import torch"
   ]
  },
  {
   "cell_type": "code",
   "execution_count": 12,
   "metadata": {},
   "outputs": [],
   "source": [
    "test = torch.load('../data/processed/durecdial2_full_test_placeholder')\n",
    "train = torch.load('../data/processed/durecdial2_full_train_placeholder')\n",
    "dev = torch.load('../data/processed/durecdial2_full_dev_placeholder')"
   ]
  },
  {
   "cell_type": "code",
   "execution_count": 13,
   "metadata": {},
   "outputs": [
    {
     "data": {
      "text/plain": [
       "(5678, 1752, 811)"
      ]
     },
     "execution_count": 13,
     "metadata": {},
     "output_type": "execute_result"
    }
   ],
   "source": [
    "len(train),len(test),len(dev)"
   ]
  },
  {
   "cell_type": "code",
   "execution_count": 2,
   "metadata": {},
   "outputs": [],
   "source": [
    "golds = torch.load('../human_eval/labels.pt')\n",
    "preds = torch.load('../human_eval/preds.pt')"
   ]
  },
  {
   "cell_type": "code",
   "execution_count": 3,
   "metadata": {},
   "outputs": [
    {
     "data": {
      "text/plain": [
       "960"
      ]
     },
     "execution_count": 3,
     "metadata": {},
     "output_type": "execute_result"
    }
   ],
   "source": [
    "len(golds)"
   ]
  },
  {
   "cell_type": "code",
   "execution_count": 4,
   "metadata": {},
   "outputs": [
    {
     "name": "stdout",
     "output_type": "stream",
     "text": [
      "['A:', \"I'm\", 'sure', \"you'll\", 'like', 'it.'] ['A:', 'OK,', 'goodbye.']\n"
     ]
    }
   ],
   "source": [
    "print(golds[3],preds[3])"
   ]
  },
  {
   "cell_type": "code",
   "execution_count": 5,
   "metadata": {},
   "outputs": [],
   "source": [
    "fw = open('../data/predictions/predictions_food_only.txt','w')"
   ]
  },
  {
   "cell_type": "code",
   "execution_count": 6,
   "metadata": {},
   "outputs": [],
   "source": [
    "for i in range(len(golds)):\n",
    "        gold = ' '.join(golds[i][1:])\n",
    "        pred = ' '.join(preds[i][1:])\n",
    "        # pred = pred.replace('\\n',' ')\n",
    "        # if '[REC]' not in pred and '[REC_END]' not in pred:\n",
    "        fw.write(pred+'\\t'+gold+'\\n')"
   ]
  },
  {
   "cell_type": "code",
   "execution_count": 7,
   "metadata": {},
   "outputs": [],
   "source": [
    "# for i in range(len(golds)):\n",
    "#     for j in range(len(golds[i])):\n",
    "#         gold = ' '.join(golds[i][j][1:])\n",
    "#         pred = ' '.join(preds[i][j][1:])\n",
    "#         pred = pred.replace('\\n',' ')\n",
    "#         # if '[REC]' not in pred and '[REC_END]' not in pred:\n",
    "#         fw.write(pred+'\\t'+gold+'\\n')"
   ]
  },
  {
   "cell_type": "code",
   "execution_count": 8,
   "metadata": {},
   "outputs": [],
   "source": [
    "fw.close()"
   ]
  },
  {
   "cell_type": "code",
   "execution_count": null,
   "metadata": {},
   "outputs": [],
   "source": []
  }
 ],
 "metadata": {
  "kernelspec": {
   "display_name": "Python 3.8.10 64-bit",
   "language": "python",
   "name": "python3"
  },
  "language_info": {
   "codemirror_mode": {
    "name": "ipython",
    "version": 3
   },
   "file_extension": ".py",
   "mimetype": "text/x-python",
   "name": "python",
   "nbconvert_exporter": "python",
   "pygments_lexer": "ipython3",
   "version": "3.8.10"
  },
  "orig_nbformat": 4,
  "vscode": {
   "interpreter": {
    "hash": "767d51c1340bd893661ea55ea3124f6de3c7a262a8b4abca0554b478b1e2ff90"
   }
  }
 },
 "nbformat": 4,
 "nbformat_minor": 2
}
