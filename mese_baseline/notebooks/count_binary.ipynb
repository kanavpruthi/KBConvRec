{
 "cells": [
  {
   "cell_type": "code",
   "execution_count": 9,
   "metadata": {},
   "outputs": [],
   "source": [
    "import torch"
   ]
  },
  {
   "cell_type": "code",
   "execution_count": 10,
   "metadata": {},
   "outputs": [],
   "source": [
    "dev = torch.load('data/processed/durecdial2_all_train_placeholder_updated')"
   ]
  },
  {
   "cell_type": "code",
   "execution_count": 11,
   "metadata": {},
   "outputs": [],
   "source": [
    "total_recommendations = 0\n",
    "total_chitchat = 0\n",
    "durecdial_stats = 0\n",
    "for conv in dev:\n",
    "    for i,utt in enumerate(conv):\n",
    "        _,_,goal = utt\n",
    "        if i%2==1:\n",
    "            if goal:\n",
    "                total_recommendations+=1\n",
    "            else:\n",
    "                total_chitchat += 1\n",
    "\n"
   ]
  },
  {
   "cell_type": "code",
   "execution_count": 12,
   "metadata": {},
   "outputs": [
    {
     "data": {
      "text/plain": [
       "(3601, 39826, 3601)"
      ]
     },
     "execution_count": 12,
     "metadata": {},
     "output_type": "execute_result"
    }
   ],
   "source": [
    "total_recommendations, total_chitchat, durecdial_stats"
   ]
  },
  {
   "cell_type": "code",
   "execution_count": 19,
   "metadata": {},
   "outputs": [],
   "source": [
    "total_recommendations = 0\n",
    "total_chitchat = 0\n",
    "durecdial_stats = 0\n",
    "for conv in dev:\n",
    "    for i,utt in enumerate(conv):\n",
    "        _,rec_ids,goal = utt\n",
    "        if rec_ids == None:\n",
    "            if i%2==0:\n",
    "                pass\n",
    "            else:\n",
    "                if goal:\n",
    "                    total_recommendations+=1\n",
    "                else:    \n",
    "                    total_chitchat+=1\n",
    "                durecdial_stats += goal\n",
    "        else:\n",
    "            if i%2==0:\n",
    "                continue\n",
    "            durecdial_stats += goal\n",
    "            if goal:\n",
    "                total_recommendations+=1\n",
    "            else:\n",
    "                total_chitchat+=1"
   ]
  },
  {
   "cell_type": "code",
   "execution_count": 18,
   "metadata": {},
   "outputs": [
    {
     "data": {
      "text/plain": [
       "(3601, 39826, 3601)"
      ]
     },
     "execution_count": 18,
     "metadata": {},
     "output_type": "execute_result"
    }
   ],
   "source": [
    "total_recommendations, total_chitchat, durecdial_stats"
   ]
  },
  {
   "cell_type": "code",
   "execution_count": null,
   "metadata": {},
   "outputs": [],
   "source": []
  }
 ],
 "metadata": {
  "kernelspec": {
   "display_name": "Python 3",
   "language": "python",
   "name": "python3"
  },
  "language_info": {
   "codemirror_mode": {
    "name": "ipython",
    "version": 3
   },
   "file_extension": ".py",
   "mimetype": "text/x-python",
   "name": "python",
   "nbconvert_exporter": "python",
   "pygments_lexer": "ipython3",
   "version": "3.8.10 (default, Nov 14 2022, 12:59:47) \n[GCC 9.4.0]"
  },
  "orig_nbformat": 4,
  "vscode": {
   "interpreter": {
    "hash": "e7370f93d1d0cde622a1f8e1c04877d8463912d04d973331ad4851f04de6915a"
   }
  }
 },
 "nbformat": 4,
 "nbformat_minor": 2
}
