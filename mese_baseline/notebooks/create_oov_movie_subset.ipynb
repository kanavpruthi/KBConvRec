{
 "cells": [
  {
   "cell_type": "code",
   "execution_count": 1,
   "metadata": {},
   "outputs": [],
   "source": [
    "import torch\n",
    "import pickle\n",
    "import random"
   ]
  },
  {
   "cell_type": "code",
   "execution_count": 2,
   "metadata": {},
   "outputs": [],
   "source": [
    "test = '../data/processed/durecdial2_full_test_placeholder'\n",
    "train = '../data/processed/durecdial2_full_train_placeholder'\n",
    "dev = '../data/processed/durecdial2_full_dev_placeholder'"
   ]
  },
  {
   "cell_type": "code",
   "execution_count": 3,
   "metadata": {},
   "outputs": [],
   "source": [
    "test_sub = '../data/processed/durecdial2_sub_test_placeholder'\n",
    "train_sub = '../data/processed/durecdial2_sub_train_placeholder'\n",
    "dev_sub = '../data/processed/durecdial2_sub_dev_placeholder'"
   ]
  },
  {
   "cell_type": "code",
   "execution_count": 4,
   "metadata": {},
   "outputs": [],
   "source": [
    "test_oov_sub = '../data/processed/durecdial2_oov_test_placeholder'\n",
    "test_non_oov_sub = '../data/processed/durecdial2_non_oov_test_placeholder'\n",
    "train_non_oov_sub = '../data/processed/durecdial2_non_oov_train_placeholder'\n",
    "dev_non_oov_sub  = '../data/processed/durecdial2_non_oov_dev_placeholder'"
   ]
  },
  {
   "cell_type": "code",
   "execution_count": 5,
   "metadata": {},
   "outputs": [],
   "source": [
    "movies_list = set()\n",
    "for k,file_path in enumerate([train,dev,test]):\n",
    "    file = torch.load(file_path)\n",
    "    for i in range(len(file)):\n",
    "        for j in range(len(file[i])):\n",
    "            rec_ids = file[i][j][1]\n",
    "            if rec_ids != None:\n",
    "                movies_list.update(rec_ids)"
   ]
  },
  {
   "cell_type": "code",
   "execution_count": 9,
   "metadata": {},
   "outputs": [],
   "source": [
    "oov_movies = set(random.sample(movies_list,40))\n",
    "non_oov_movies = set()"
   ]
  },
  {
   "cell_type": "code",
   "execution_count": 10,
   "metadata": {},
   "outputs": [],
   "source": [
    "for movie in movies_list:\n",
    "    if movie in oov_movies:\n",
    "        pass\n",
    "    else:\n",
    "        non_oov_movies.add(movie)"
   ]
  },
  {
   "cell_type": "code",
   "execution_count": 13,
   "metadata": {},
   "outputs": [],
   "source": [
    "sub = [train_non_oov_sub,dev_non_oov_sub, test_non_oov_sub]\n",
    "for k,file_path in enumerate([train_sub,dev_sub,test_sub]):\n",
    "    file = torch.load(file_path)\n",
    "    new_data = []\n",
    "    for i in range(len(file)):\n",
    "        current_conv_movies = set()\n",
    "        for j in range(len(file[i])):\n",
    "            rec_ids = file[i][j][1]\n",
    "            if rec_ids != None:\n",
    "                current_conv_movies.update(rec_ids)\n",
    "        inter = oov_movies.intersection(current_conv_movies)\n",
    "        if len(inter) == 0:\n",
    "            new_data.append(file[i])\n",
    "    torch.save(new_data,sub[k])"
   ]
  },
  {
   "cell_type": "code",
   "execution_count": 14,
   "metadata": {},
   "outputs": [],
   "source": [
    "sub = [test_oov_sub]\n",
    "for k,file_path in enumerate([test_sub]):\n",
    "    file = torch.load(file_path)\n",
    "    new_data = []\n",
    "    for i in range(len(file)):\n",
    "        current_conv_movies = set()\n",
    "        for j in range(len(file[i])):\n",
    "            rec_ids = file[i][j][1]\n",
    "            if rec_ids != None:\n",
    "                current_conv_movies.update(rec_ids)\n",
    "        inter = non_oov_movies.intersection(current_conv_movies)\n",
    "        if len(inter) == 0:\n",
    "            new_data.append(file[i])\n",
    "    torch.save(new_data,sub[k])"
   ]
  }
 ],
 "metadata": {
  "kernelspec": {
   "display_name": "Python 3",
   "language": "python",
   "name": "python3"
  },
  "language_info": {
   "codemirror_mode": {
    "name": "ipython",
    "version": 3
   },
   "file_extension": ".py",
   "mimetype": "text/x-python",
   "name": "python",
   "nbconvert_exporter": "python",
   "pygments_lexer": "ipython3",
   "version": "3.9.13 (main, Aug 11 2022, 13:40:36) \n[Clang 13.1.6 (clang-1316.0.21.2.5)]"
  },
  "orig_nbformat": 4,
  "vscode": {
   "interpreter": {
    "hash": "a665b5d41d17b532ea9890333293a1b812fa0b73c9c25c950b3cedf1bebd0438"
   }
  }
 },
 "nbformat": 4,
 "nbformat_minor": 2
}
