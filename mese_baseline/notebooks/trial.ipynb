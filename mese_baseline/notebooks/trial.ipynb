{
 "cells": [
  {
   "cell_type": "code",
   "execution_count": 1,
   "metadata": {},
   "outputs": [],
   "source": [
    "import json\n",
    "import torch\n",
    "import re"
   ]
  },
  {
   "cell_type": "code",
   "execution_count": 2,
   "metadata": {},
   "outputs": [],
   "source": [
    "import os \n",
    "os.chdir('../')"
   ]
  },
  {
   "cell_type": "code",
   "execution_count": 23,
   "metadata": {},
   "outputs": [],
   "source": [
    "train = torch.load('data/processed/redial/train')\n",
    "test = torch.load('data/processed/redial/test')"
   ]
  },
  {
   "cell_type": "code",
   "execution_count": 24,
   "metadata": {},
   "outputs": [],
   "source": [
    "new_train = []\n",
    "for sample in train:\n",
    "    new_sent_pair = []\n",
    "    for sent_pair in sample:\n",
    "        utt, entities = sent_pair\n",
    "        if entities is not None:\n",
    "            new_sent_pair.append((utt,entities,1))\n",
    "        else:\n",
    "            new_sent_pair.append((utt,entities,0))\n",
    "    new_train.append(new_sent_pair)"
   ]
  },
  {
   "cell_type": "code",
   "execution_count": 26,
   "metadata": {},
   "outputs": [],
   "source": [
    "new_test = []\n",
    "for sample in test:\n",
    "    new_sent_pair = []\n",
    "    for sent_pair in sample:\n",
    "        utt, entities = sent_pair\n",
    "        if entities is not None:\n",
    "            new_sent_pair.append((utt,entities,1))\n",
    "        else:\n",
    "            new_sent_pair.append((utt,entities,0))\n",
    "    new_test.append(new_sent_pair)"
   ]
  },
  {
   "cell_type": "code",
   "execution_count": 28,
   "metadata": {},
   "outputs": [],
   "source": [
    "torch.save(new_train,'data/processed/redial/train_wrl')\n",
    "torch.save(new_test,'data/processed/redial/test_wrl')"
   ]
  },
  {
   "cell_type": "code",
   "execution_count": null,
   "metadata": {},
   "outputs": [],
   "source": []
  }
 ],
 "metadata": {
  "kernelspec": {
   "display_name": "harshGPU",
   "language": "python",
   "name": "python3"
  },
  "language_info": {
   "codemirror_mode": {
    "name": "ipython",
    "version": 3
   },
   "file_extension": ".py",
   "mimetype": "text/x-python",
   "name": "python",
   "nbconvert_exporter": "python",
   "pygments_lexer": "ipython3",
   "version": "3.9.7"
  },
  "orig_nbformat": 4,
  "vscode": {
   "interpreter": {
    "hash": "acb26a374774508ff4d6b852ccd3c26ca348e61e32d01e3548ca0d6142128295"
   }
  }
 },
 "nbformat": 4,
 "nbformat_minor": 2
}
