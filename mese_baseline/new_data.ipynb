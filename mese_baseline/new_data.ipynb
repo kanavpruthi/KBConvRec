{
 "cells": [
  {
   "cell_type": "code",
   "execution_count": null,
   "metadata": {},
   "outputs": [],
   "source": [
    "import torch \n",
    "import random\n",
    "import numpy as np\n",
    "import pandas as pd"
   ]
  },
  {
   "cell_type": "code",
   "execution_count": null,
   "metadata": {},
   "outputs": [],
   "source": [
    "train_path = \"data/processed/durecdial2_all_train_placeholder_updated\"\n",
    "train_placeholder = '../auxiliary/durecdial2_full_entity_db_placeholder'"
   ]
  },
  {
   "cell_type": "code",
   "execution_count": null,
   "metadata": {},
   "outputs": [],
   "source": [
    "data_train = torch.load(train_path)\n",
    "data_place = torch.load(train_placeholder)"
   ]
  },
  {
   "cell_type": "code",
   "execution_count": null,
   "metadata": {},
   "outputs": [],
   "source": [
    "type(data_place)"
   ]
  },
  {
   "cell_type": "code",
   "execution_count": null,
   "metadata": {},
   "outputs": [],
   "source": [
    "del_keys = []"
   ]
  },
  {
   "cell_type": "code",
   "execution_count": null,
   "metadata": {},
   "outputs": [],
   "source": [
    "for key in random.sample(data_place.keys(), 119):\n",
    "   del_keys.append(key)\n",
    "   del data_place[key]"
   ]
  },
  {
   "cell_type": "code",
   "execution_count": null,
   "metadata": {},
   "outputs": [],
   "source": [
    "new_data_train = []\n",
    "for conv in data_train:\n",
    "    # print(conv)\n",
    "    f = 1\n",
    "    for tup in conv:\n",
    "        ids = tup[1]\n",
    "        # print(ids)\n",
    "        if ids == None:\n",
    "            continue\n",
    "        for id in ids:\n",
    "            if id in del_keys:\n",
    "                # print('Reached Here')\n",
    "                f = 0 \n",
    "                break\n",
    "        if f==0:\n",
    "            break\n",
    "    if f==1:\n",
    "        new_data_train.append(conv)\n"
   ]
  },
  {
   "cell_type": "code",
   "execution_count": null,
   "metadata": {},
   "outputs": [],
   "source": [
    "len(new_data_train)"
   ]
  },
  {
   "cell_type": "code",
   "execution_count": null,
   "metadata": {},
   "outputs": [],
   "source": [
    "# torch.save(new_data_train, 'INSERT FILE PATH')\n",
    "# torch.save(data_place, 'INSERT FILE PATH FOR DICT')"
   ]
  }
 ],
 "metadata": {
  "kernelspec": {
   "display_name": "Python 3",
   "language": "python",
   "name": "python3"
  },
  "language_info": {
   "codemirror_mode": {
    "name": "ipython",
    "version": 3
   },
   "file_extension": ".py",
   "mimetype": "text/x-python",
   "name": "python",
   "nbconvert_exporter": "python",
   "pygments_lexer": "ipython3",
   "version": "3.9.13"
  },
  "orig_nbformat": 4,
  "vscode": {
   "interpreter": {
    "hash": "a665b5d41d17b532ea9890333293a1b812fa0b73c9c25c950b3cedf1bebd0438"
   }
  }
 },
 "nbformat": 4,
 "nbformat_minor": 2
}
