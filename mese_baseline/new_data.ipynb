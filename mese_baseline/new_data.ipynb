{
 "cells": [
  {
   "cell_type": "code",
   "execution_count": 1,
   "metadata": {},
   "outputs": [],
   "source": [
    "import torch \n",
    "import random\n",
    "import numpy as np\n",
    "import pandas as pd"
   ]
  },
  {
   "cell_type": "code",
   "execution_count": 60,
   "metadata": {},
   "outputs": [],
   "source": [
    "train_path = \"data/processed/durecdial2_all_train_placeholder_updated\"\n",
    "dev_path = \"data/processed/durecdial2_all_dev_placeholder_updated\"\n",
    "\n",
    "train_to_save = \"data/processed/durecdial2_train_in_vocab_placeholder\"\n",
    "dev_to_save = \"data/processed/durecdial2_dev_in_vocab_placeholder\"\n",
    "dev_oov_to_save = \"data/processed/durecdial2_dev_oov_placeholder\"\n",
    "\n",
    "train_placeholder = '../auxiliary/durecdial2_full_entity_db_placeholder'\n",
    "in_vocab_entities = 'data/processed/durecdial2_in_vocab_entities'\n",
    "out_of_vocab_entities = 'data/processed/durecdial2_oov_entities'"
   ]
  },
  {
   "cell_type": "code",
   "execution_count": 42,
   "metadata": {},
   "outputs": [],
   "source": [
    "data_train = torch.load(train_path)\n",
    "data_dev = torch.load(dev_path)\n",
    "data_place = torch.load(train_placeholder)"
   ]
  },
  {
   "cell_type": "code",
   "execution_count": 43,
   "metadata": {},
   "outputs": [
    {
     "data": {
      "text/plain": [
       "dict"
      ]
     },
     "execution_count": 43,
     "metadata": {},
     "output_type": "execute_result"
    }
   ],
   "source": [
    "type(data_place)"
   ]
  },
  {
   "cell_type": "code",
   "execution_count": 44,
   "metadata": {},
   "outputs": [],
   "source": [
    "del_keys = []"
   ]
  },
  {
   "cell_type": "code",
   "execution_count": 45,
   "metadata": {},
   "outputs": [],
   "source": [
    "for key in random.sample(data_place.keys(), 119):\n",
    "   del_keys.append(key)\n",
    "   del data_place[key]"
   ]
  },
  {
   "cell_type": "code",
   "execution_count": 46,
   "metadata": {},
   "outputs": [
    {
     "data": {
      "text/plain": [
       "[579,\n",
       " 249,\n",
       " 307,\n",
       " 79,\n",
       " 414,\n",
       " 493,\n",
       " 346,\n",
       " 236,\n",
       " 524,\n",
       " 418,\n",
       " 23,\n",
       " 30,\n",
       " 254,\n",
       " 334,\n",
       " 263,\n",
       " 563,\n",
       " 428,\n",
       " 251,\n",
       " 65,\n",
       " 187,\n",
       " 503,\n",
       " 19,\n",
       " 129,\n",
       " 185,\n",
       " 439,\n",
       " 446,\n",
       " 313,\n",
       " 521,\n",
       " 111,\n",
       " 363,\n",
       " 441,\n",
       " 48,\n",
       " 40,\n",
       " 22,\n",
       " 69,\n",
       " 437,\n",
       " 539,\n",
       " 557,\n",
       " 436,\n",
       " 62,\n",
       " 327,\n",
       " 323,\n",
       " 353,\n",
       " 1,\n",
       " 331,\n",
       " 600,\n",
       " 28,\n",
       " 401,\n",
       " 529,\n",
       " 337,\n",
       " 536,\n",
       " 179,\n",
       " 592,\n",
       " 293,\n",
       " 516,\n",
       " 619,\n",
       " 586,\n",
       " 538,\n",
       " 73,\n",
       " 426,\n",
       " 119,\n",
       " 359,\n",
       " 543,\n",
       " 435,\n",
       " 250,\n",
       " 158,\n",
       " 264,\n",
       " 340,\n",
       " 157,\n",
       " 152,\n",
       " 221,\n",
       " 487,\n",
       " 253,\n",
       " 427,\n",
       " 100,\n",
       " 357,\n",
       " 94,\n",
       " 481,\n",
       " 213,\n",
       " 298,\n",
       " 607,\n",
       " 277,\n",
       " 56,\n",
       " 61,\n",
       " 195,\n",
       " 497,\n",
       " 120,\n",
       " 299,\n",
       " 98,\n",
       " 423,\n",
       " 496,\n",
       " 183,\n",
       " 85,\n",
       " 302,\n",
       " 577,\n",
       " 442,\n",
       " 458,\n",
       " 45,\n",
       " 58,\n",
       " 412,\n",
       " 139,\n",
       " 175,\n",
       " 533,\n",
       " 477,\n",
       " 44,\n",
       " 127,\n",
       " 11,\n",
       " 518,\n",
       " 336,\n",
       " 344,\n",
       " 349,\n",
       " 255,\n",
       " 74,\n",
       " 523,\n",
       " 192,\n",
       " 39,\n",
       " 540,\n",
       " 617,\n",
       " 612]"
      ]
     },
     "execution_count": 46,
     "metadata": {},
     "output_type": "execute_result"
    }
   ],
   "source": [
    "del_keys"
   ]
  },
  {
   "cell_type": "code",
   "execution_count": 47,
   "metadata": {},
   "outputs": [],
   "source": [
    "new_data_train = []\n",
    "for conv in data_train:\n",
    "    # print(conv)\n",
    "    # raise('debug')\n",
    "    f = 1\n",
    "    for tup in conv:\n",
    "        ids = tup[1]\n",
    "        # print(ids)\n",
    "        if ids == None:\n",
    "            continue\n",
    "        for id in ids:\n",
    "            if id in del_keys:\n",
    "                # print('Reached Here')\n",
    "                f = 0 \n",
    "                break\n",
    "        if f==0:\n",
    "            break\n",
    "    if f==1:\n",
    "        new_data_train.append(conv)\n"
   ]
  },
  {
   "cell_type": "code",
   "execution_count": 49,
   "metadata": {},
   "outputs": [],
   "source": [
    "new_data_dev = []\n",
    "for conv in data_dev:\n",
    "    # print(conv)\n",
    "    # raise('debug')\n",
    "    f = 1\n",
    "    for tup in conv:\n",
    "        ids = tup[1]\n",
    "        # print(ids)\n",
    "        if ids == None:\n",
    "            continue\n",
    "        for id in ids:\n",
    "            if id in del_keys:\n",
    "                f = 0 \n",
    "                break\n",
    "        if f==0:\n",
    "            break\n",
    "    if f==1:\n",
    "        new_data_dev.append(conv)\n"
   ]
  },
  {
   "cell_type": "code",
   "execution_count": 54,
   "metadata": {},
   "outputs": [],
   "source": [
    "new_data_dev_oov = []\n",
    "for conv in data_dev:\n",
    "\n",
    "    f = 1\n",
    "    for tup in conv:\n",
    "        ids = tup[1]\n",
    "        # print(ids)\n",
    "        if ids == None:\n",
    "            continue\n",
    "        for id in ids:\n",
    "            if id in data_place.keys():\n",
    "                f = 0 \n",
    "                break\n",
    "        if f==0:\n",
    "            break\n",
    "    if f==1:\n",
    "        new_data_dev_oov.append(conv)"
   ]
  },
  {
   "cell_type": "code",
   "execution_count": 56,
   "metadata": {},
   "outputs": [
    {
     "data": {
      "text/plain": [
       "811"
      ]
     },
     "execution_count": 56,
     "metadata": {},
     "output_type": "execute_result"
    }
   ],
   "source": [
    "len(data_dev)"
   ]
  },
  {
   "cell_type": "code",
   "execution_count": 55,
   "metadata": {},
   "outputs": [
    {
     "data": {
      "text/plain": [
       "(534, 3716, 318)"
      ]
     },
     "execution_count": 55,
     "metadata": {},
     "output_type": "execute_result"
    }
   ],
   "source": [
    "len(new_data_dev), len(new_data_train), len(new_data_dev_oov)"
   ]
  },
  {
   "cell_type": "code",
   "execution_count": 58,
   "metadata": {},
   "outputs": [],
   "source": [
    "torch.save(new_data_train, train_to_save)\n",
    "torch.save(new_data_dev,dev_to_save)\n",
    "torch.save(new_data_dev_oov,dev_oov_to_save)\n",
    "\n"
   ]
  },
  {
   "cell_type": "code",
   "execution_count": 61,
   "metadata": {},
   "outputs": [],
   "source": [
    "torch.save(data_place, in_vocab_entities)\n",
    "torch.save(del_keys, out_of_vocab_entities)"
   ]
  },
  {
   "cell_type": "code",
   "execution_count": null,
   "metadata": {},
   "outputs": [],
   "source": []
  }
 ],
 "metadata": {
  "kernelspec": {
   "display_name": "Python 3",
   "language": "python",
   "name": "python3"
  },
  "language_info": {
   "codemirror_mode": {
    "name": "ipython",
    "version": 3
   },
   "file_extension": ".py",
   "mimetype": "text/x-python",
   "name": "python",
   "nbconvert_exporter": "python",
   "pygments_lexer": "ipython3",
   "version": "3.8.10"
  },
  "orig_nbformat": 4,
  "vscode": {
   "interpreter": {
    "hash": "767d51c1340bd893661ea55ea3124f6de3c7a262a8b4abca0554b478b1e2ff90"
   }
  }
 },
 "nbformat": 4,
 "nbformat_minor": 2
}
